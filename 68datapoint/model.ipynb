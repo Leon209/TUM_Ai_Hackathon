{
 "cells": [
  {
   "cell_type": "code",
   "execution_count": null,
   "metadata": {},
   "outputs": [],
   "source": [
    "\n",
    "import pandas as pd\n",
    "from sklearn.covariance import EllipticEnvelope\n",
    "\n",
    "df_hr = pd.read_csv(\"data/test_1.csv\")\n",
    "rhr = df_hr[\"heart_rate\"].median()\n",
    " # heart rate data\n",
    "df_hr = df_hr.set_index('timestamp')\n",
    "df_hr.index.name = None\n",
    "df_hr.index = pd.to_datetime(df_hr.index)\n",
    "# fit the model  ------------------------------------------------------\n",
    "model = EllipticEnvelope(random_state=10,\n",
    "                            support_fraction=0.7,\n",
    "                            contamination=0.1)\n",
    "model.fit(df_hr)\n",
    "# predict the test set\n",
    "preds = pd.DataFrame(model.predict(df_hr))\n",
    "preds = preds.rename(lambda x: 'anomaly' if x == 0 else x, axis=1)\n",
    "data = df_hr.reset_index()\n",
    "data = data.join(preds)\n",
    "data.to_csv(\"data.csv\")\n",
    "data.plot()\n",
    "print(data)"
   ]
  },
  {
   "cell_type": "code",
   "execution_count": null,
   "metadata": {},
   "outputs": [],
   "source": []
  }
 ],
 "metadata": {
  "language_info": {
   "name": "python"
  },
  "orig_nbformat": 4
 },
 "nbformat": 4,
 "nbformat_minor": 2
}
