{
 "cells": [
  {
   "cell_type": "code",
   "execution_count": 192,
   "id": "a898d895",
   "metadata": {},
   "outputs": [],
   "source": [
    "import pandas as pd\n",
    "import os \n",
    "from numpy import genfromtxt\n",
    "import numpy as np\n",
    "pfad = '/Users/a2/Downloads/Hackathon2/Phase2_Data'\n",
    "folders = os.listdir(pfad)"
   ]
  },
  {
   "cell_type": "code",
   "execution_count": 193,
   "id": "fda9f09c",
   "metadata": {},
   "outputs": [],
   "source": [
    "def get_pandas(folder):\n",
    "    files = os.listdir(f\"{pfad}/{folder}\")\n",
    "    fi = \"\"\n",
    "    for f in files:\n",
    "        if f.endswith(\"HR.csv\"):\n",
    "            fi = f\n",
    "    #fi = '/Users/a2/Downloads/Hackathon2/Phase2_Data/P148618/Orig_NonFitbit_HR.csv'\n",
    "    \n",
    "    return pd.read_csv(f\"{pfad}/{folder}/{fi}\")"
   ]
  },
  {
   "cell_type": "code",
   "execution_count": 194,
   "id": "991caeac",
   "metadata": {},
   "outputs": [],
   "source": [
    "positive = pd.read_excel('/Users/a2/Downloads/Hackathon2/41591_2021_1593_MOESM3_ESM.xlsx')\n",
    "positive = positive.drop('Device', axis=1)\n",
    "df = positive.copy()\n"
   ]
  },
  {
   "cell_type": "code",
   "execution_count": 195,
   "id": "cd4a46cb",
   "metadata": {},
   "outputs": [],
   "source": [
    "def night_heartrate_one_minute(night_heartrate):\n",
    "    minute_arr_py = []\n",
    "    base = night_heartrate[0][1]\n",
    "    summe = 0\n",
    "    anzahl = 0\n",
    "    for n, i in enumerate(night_heartrate):\n",
    "        t = i[1]\n",
    "        if t.year == base.year and t.month == base.month and t.day == base.day and t.hour == base.hour and t.minute == base.minute:\n",
    "            summe += i[0]\n",
    "            anzahl += 1\n",
    "        else: \n",
    "            minute_arr_py.append([base, (summe/anzahl)])\n",
    "            base = t\n",
    "            summe = i[0]\n",
    "            anzahl = 1\n",
    "    return np.array(minute_arr_py)"
   ]
  },
  {
   "cell_type": "code",
   "execution_count": 196,
   "id": "c0a08526",
   "metadata": {
    "scrolled": true
   },
   "outputs": [],
   "source": [
    "pandas = get_pandas('P148618')\n",
    "times = np.zeros(len(pandas), dtype='datetime64[s]')\n",
    "heartrate = np.zeros(len(pandas), dtype=np.dtype('i2'))\n",
    "for n in range(len(pandas)):\n",
    "    times[n] = np.datetime64(pandas['datetime'][n])\n",
    "    heartrate[n] = pandas['heartrate'][n]\n",
    "heartrate = np.array([heartrate, times])\n",
    "heartrate = heartrate.transpose()\n",
    "heartrate\n",
    "hours_wanted = [5,4,3,2]\n",
    "filter_py_arr = []\n",
    "for a in heartrate:\n",
    "    if a[1].hour in hours_wanted:\n",
    "        filter_py_arr.append(a)\n",
    "night_heartrate = np.array(filter_py_arr)\n",
    "night_heartrate_min = night_heartrate_one_minute(night_heartrate)\n"
   ]
  },
  {
   "cell_type": "code",
   "execution_count": 199,
   "id": "dd269185",
   "metadata": {},
   "outputs": [
    {
     "data": {
      "text/plain": [
       "(46514, 3)"
      ]
     },
     "execution_count": 199,
     "metadata": {},
     "output_type": "execute_result"
    }
   ],
   "source": [
    "pandas.shape"
   ]
  },
  {
   "cell_type": "code",
   "execution_count": 150,
   "id": "d9c15f35",
   "metadata": {},
   "outputs": [
    {
     "ename": "AttributeError",
     "evalue": "'datetime.datetime' object has no attribute 'minutes'",
     "output_type": "error",
     "traceback": [
      "\u001b[0;31m---------------------------------------------------------------------------\u001b[0m",
      "\u001b[0;31mAttributeError\u001b[0m                            Traceback (most recent call last)",
      "Input \u001b[0;32mIn [150]\u001b[0m, in \u001b[0;36m<cell line: 1>\u001b[0;34m()\u001b[0m\n\u001b[0;32m----> 1\u001b[0m dt \u001b[38;5;241m=\u001b[39m \u001b[43mdatetime\u001b[49m\u001b[38;5;241;43m.\u001b[39;49m\u001b[43mdatetime\u001b[49m\u001b[43m(\u001b[49m\u001b[38;5;241;43m2025\u001b[39;49m\u001b[43m,\u001b[49m\u001b[43m \u001b[49m\u001b[38;5;241;43m9\u001b[39;49m\u001b[43m,\u001b[49m\u001b[43m \u001b[49m\u001b[38;5;241;43m13\u001b[39;49m\u001b[43m,\u001b[49m\u001b[43m \u001b[49m\u001b[38;5;241;43m9\u001b[39;49m\u001b[43m,\u001b[49m\u001b[43m \u001b[49m\u001b[38;5;241;43m50\u001b[39;49m\u001b[43m,\u001b[49m\u001b[43m \u001b[49m\u001b[38;5;241;43m28\u001b[39;49m\u001b[43m)\u001b[49m\u001b[38;5;241;43m.\u001b[39;49m\u001b[43mminutes\u001b[49m\n",
      "\u001b[0;31mAttributeError\u001b[0m: 'datetime.datetime' object has no attribute 'minutes'"
     ]
    }
   ],
   "source": [
    "dt = datetime.datetime(2025, 9, 13, 9, 50, 28).minutes\n"
   ]
  },
  {
   "cell_type": "code",
   "execution_count": 149,
   "id": "77d189b4",
   "metadata": {},
   "outputs": [
    {
     "data": {
      "text/plain": [
       "50"
      ]
     },
     "execution_count": 149,
     "metadata": {},
     "output_type": "execute_result"
    }
   ],
   "source": [
    "dt"
   ]
  },
  {
   "cell_type": "code",
   "execution_count": null,
   "id": "c9e1951e",
   "metadata": {},
   "outputs": [],
   "source": []
  }
 ],
 "metadata": {
  "kernelspec": {
   "display_name": "Python 3 (ipykernel)",
   "language": "python",
   "name": "python3"
  },
  "language_info": {
   "codemirror_mode": {
    "name": "ipython",
    "version": 3
   },
   "file_extension": ".py",
   "mimetype": "text/x-python",
   "name": "python",
   "nbconvert_exporter": "python",
   "pygments_lexer": "ipython3",
   "version": "3.8.13"
  },
  "vscode": {
   "interpreter": {
    "hash": "cb44c743f0b3782ea036ea7bb6fdb4b0d7f1b42f1ff1b1dea3fc9f88b3cb6e55"
   }
  }
 },
 "nbformat": 4,
 "nbformat_minor": 5
}
