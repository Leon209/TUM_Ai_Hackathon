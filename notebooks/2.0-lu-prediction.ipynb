{
 "cells": [
  {
   "cell_type": "code",
   "execution_count": 122,
   "metadata": {
    "pycharm": {
     "name": "#%%\n"
    }
   },
   "outputs": [],
   "source": [
    "import pandas as pd\n",
    "import sklearn\n",
    "import numpy as np\n",
    "import json\n",
    "import pandas as pd\n",
    "from sklearn.covariance import EllipticEnvelope\n",
    "import os\n",
    "import glob\n",
    "import pandas as pd\n",
    "from time import sleep\n",
    "from tqdm import tqdm"
   ]
  },
  {
   "cell_type": "markdown",
   "metadata": {
    "pycharm": {
     "name": "#%% md\n"
    }
   },
   "source": [
    "<h1>Import Test Dataset<h1>"
   ]
  },
  {
   "cell_type": "code",
   "execution_count": 123,
   "metadata": {
    "pycharm": {
     "name": "#%%\n"
    }
   },
   "outputs": [],
   "source": [
    "def anomaly_detection(dataframe):\n",
    "    \"\"\"\n",
    "    Returns a dataframe of anomalies for given timestamps. \n",
    "    Anomalies have the value -1. \n",
    "    \"\"\"\n",
    "    df_hr = dataframe\n",
    "    rhr = df_hr[\"heart_rate\"].median()\n",
    "    # heart rate data\n",
    "    df_hr = df_hr.set_index('timestamp')\n",
    "    df_hr.index.name = None\n",
    "    df_hr.index = pd.to_datetime(df_hr.index)\n",
    "    # fit the model  ------------------------------------------------------\n",
    "    model = EllipticEnvelope(random_state=10,\n",
    "                                support_fraction=0.7,\n",
    "                                contamination=0.1)\n",
    "    model.fit(df_hr)\n",
    "    # predict the test set\n",
    "    preds = pd.DataFrame(model.predict(df_hr))\n",
    "    preds = preds.rename(lambda x: 'anomaly' if x == 0 else x, axis=1)\n",
    "    data = df_hr.reset_index()\n",
    "    data = data.join(preds)\n",
    "    data.reset_index().to_csv(\"data.csv\")\n",
    "    data['anomaly'] = data['anomaly'].map({-1: 1, 1: 0})\n",
    "    # return data.reset_index().to_json(orient=\"records\")\n",
    "\n",
    "    #downsample to daily\n",
    "    outputdays= data.groupby(data['index'].dt.date)['heart_rate'].quantile(0.1)\n",
    "    print(outputdays)\n",
    "    maximum = len(outputdays)\n",
    "    for n  in range(maximum):\n",
    "        if (outputdays['anomaly'][n]> 0.3):\n",
    "                outputdays['anomaly'][n] = 1\n",
    "        else:\n",
    "            outputdays['anomaly'][n] = 0\n",
    "\n",
    "\n",
    "    # for n  in range(maximum):\n",
    "    #     if(n>0 and n<maximum-2):\n",
    "    #         if (outputdays['anomaly'][n]== 1 and outputdays['anomaly'][n+1]==1) or (outputdays['anomaly'][n]==1 and outputdays['anomaly'][n-1]==1):\n",
    "    #             outputdays['anomaly'][n] = 1\n",
    "    #         else:\n",
    "    #             outputdays['anomaly'][n] = 0\n",
    "    #     else:\n",
    "    #         outputdays['anomaly'][n] = 0\n",
    "    \n",
    "    return outputdays\n",
    "\n",
    "\n",
    "\n",
    "\n",
    "#downsample to daily\n",
    "def automata(df):\n",
    "    \n",
    "    pass\n",
    "\n",
    "\n",
    "def filter_anomalies(df):\n",
    "    df = df.loc[lambda df: df['anomaly'] == -1]\n",
    "    df.reset_index().to_csv(\"anomalies.csv\")\n",
    "    return df\n",
    "\n",
    "\n",
    "def lambda_handler(event, context):\n",
    "    \"\"\"\n",
    "    Main method of the lambda function. Gets called when you send a json to the api. \n",
    "    Json will be accessible in the event variable. \n",
    "    \"\"\"\n",
    "    dataset_path = \"test_1.csv\"\n",
    "    return {\n",
    "        'statusCode': 200,\n",
    "        'body': anomaly_detection(dataset_path)\n",
    "    }\n",
    "\n",
    "\n",
    "if __name__ == \"__main__\":\n",
    "    # ret = lambda_handler(None, None)\n",
    "    dataset_path = \"test_1.csv\"\n",
    "    #df = anomaly_detection(dataset_path)\n",
    "    #filter_anomalies(df)"
   ]
  },
  {
   "cell_type": "markdown",
   "metadata": {
    "pycharm": {
     "name": "#%% md\n"
    }
   },
   "source": [
    "<h1>Final Prediction<h1>"
   ]
  },
  {
   "cell_type": "code",
   "execution_count": 125,
   "metadata": {
    "pycharm": {
     "name": "#%%\n"
    }
   },
   "outputs": [
    {
     "name": "stdout",
     "output_type": "stream",
     "text": [
      "index\n",
      "2026-01-05    49.0\n",
      "2026-01-07    63.3\n",
      "2026-01-08    52.0\n",
      "2026-01-09    55.0\n",
      "2026-01-10    80.9\n",
      "              ... \n",
      "2026-06-10    56.0\n",
      "2026-06-11    57.0\n",
      "2026-06-12    53.9\n",
      "2026-06-13    65.6\n",
      "2026-06-15    54.0\n",
      "Name: heart_rate, Length: 132, dtype: float64\n"
     ]
    },
    {
     "ename": "KeyError",
     "evalue": "'anomaly'",
     "output_type": "error",
     "traceback": [
      "\u001B[0;31m---------------------------------------------------------------------------\u001B[0m",
      "\u001B[0;31mKeyError\u001B[0m                                  Traceback (most recent call last)",
      "File \u001B[0;32m/Library/Frameworks/Python.framework/Versions/3.10/lib/python3.10/site-packages/pandas/core/indexes/base.py:3621\u001B[0m, in \u001B[0;36mIndex.get_loc\u001B[0;34m(self, key, method, tolerance)\u001B[0m\n\u001B[1;32m   3620\u001B[0m \u001B[39mtry\u001B[39;00m:\n\u001B[0;32m-> 3621\u001B[0m     \u001B[39mreturn\u001B[39;00m \u001B[39mself\u001B[39;49m\u001B[39m.\u001B[39;49m_engine\u001B[39m.\u001B[39;49mget_loc(casted_key)\n\u001B[1;32m   3622\u001B[0m \u001B[39mexcept\u001B[39;00m \u001B[39mKeyError\u001B[39;00m \u001B[39mas\u001B[39;00m err:\n",
      "File \u001B[0;32mpandas/_libs/index.pyx:136\u001B[0m, in \u001B[0;36mpandas._libs.index.IndexEngine.get_loc\u001B[0;34m()\u001B[0m\n",
      "File \u001B[0;32mpandas/_libs/index.pyx:163\u001B[0m, in \u001B[0;36mpandas._libs.index.IndexEngine.get_loc\u001B[0;34m()\u001B[0m\n",
      "File \u001B[0;32mpandas/_libs/hashtable_class_helper.pxi:5198\u001B[0m, in \u001B[0;36mpandas._libs.hashtable.PyObjectHashTable.get_item\u001B[0;34m()\u001B[0m\n",
      "File \u001B[0;32mpandas/_libs/hashtable_class_helper.pxi:5206\u001B[0m, in \u001B[0;36mpandas._libs.hashtable.PyObjectHashTable.get_item\u001B[0;34m()\u001B[0m\n",
      "\u001B[0;31mKeyError\u001B[0m: 'anomaly'",
      "\nThe above exception was the direct cause of the following exception:\n",
      "\u001B[0;31mKeyError\u001B[0m                                  Traceback (most recent call last)",
      "\u001B[1;32m/Users/leonurny/Desktop/TUM_Ai_Hackathon/Final prediction.ipynb Cell 5\u001B[0m in \u001B[0;36m<cell line: 4>\u001B[0;34m()\u001B[0m\n\u001B[1;32m      <a href='vscode-notebook-cell:/Users/leonurny/Desktop/TUM_Ai_Hackathon/Final%20prediction.ipynb#W4sZmlsZQ%3D%3D?line=1'>2</a>\u001B[0m tmp\u001B[39m.\u001B[39mrename(columns\u001B[39m=\u001B[39m{\u001B[39m'\u001B[39m\u001B[39m0\u001B[39m\u001B[39m'\u001B[39m:\u001B[39m'\u001B[39m\u001B[39mheart_rate\u001B[39m\u001B[39m'\u001B[39m, \u001B[39m'\u001B[39m\u001B[39m1\u001B[39m\u001B[39m'\u001B[39m:\u001B[39m'\u001B[39m\u001B[39mtimestamp\u001B[39m\u001B[39m'\u001B[39m,\u001B[39m'\u001B[39m\u001B[39m2\u001B[39m\u001B[39m'\u001B[39m:\u001B[39m'\u001B[39m\u001B[39my_validate\u001B[39m\u001B[39m'\u001B[39m}, inplace\u001B[39m=\u001B[39m\u001B[39mTrue\u001B[39;00m)\n\u001B[1;32m      <a href='vscode-notebook-cell:/Users/leonurny/Desktop/TUM_Ai_Hackathon/Final%20prediction.ipynb#W4sZmlsZQ%3D%3D?line=2'>3</a>\u001B[0m df \u001B[39m=\u001B[39m tmp\u001B[39m.\u001B[39mcopy()\n\u001B[0;32m----> <a href='vscode-notebook-cell:/Users/leonurny/Desktop/TUM_Ai_Hackathon/Final%20prediction.ipynb#W4sZmlsZQ%3D%3D?line=3'>4</a>\u001B[0m outputdays \u001B[39m=\u001B[39m anomaly_detection(df)\n",
      "\u001B[1;32m/Users/leonurny/Desktop/TUM_Ai_Hackathon/Final prediction.ipynb Cell 5\u001B[0m in \u001B[0;36manomaly_detection\u001B[0;34m(dataframe)\u001B[0m\n\u001B[1;32m     <a href='vscode-notebook-cell:/Users/leonurny/Desktop/TUM_Ai_Hackathon/Final%20prediction.ipynb#W4sZmlsZQ%3D%3D?line=28'>29</a>\u001B[0m maximum \u001B[39m=\u001B[39m \u001B[39mlen\u001B[39m(outputdays)\n\u001B[1;32m     <a href='vscode-notebook-cell:/Users/leonurny/Desktop/TUM_Ai_Hackathon/Final%20prediction.ipynb#W4sZmlsZQ%3D%3D?line=29'>30</a>\u001B[0m \u001B[39mfor\u001B[39;00m n  \u001B[39min\u001B[39;00m \u001B[39mrange\u001B[39m(maximum):\n\u001B[0;32m---> <a href='vscode-notebook-cell:/Users/leonurny/Desktop/TUM_Ai_Hackathon/Final%20prediction.ipynb#W4sZmlsZQ%3D%3D?line=30'>31</a>\u001B[0m     \u001B[39mif\u001B[39;00m (outputdays[\u001B[39m'\u001B[39;49m\u001B[39manomaly\u001B[39;49m\u001B[39m'\u001B[39;49m][n]\u001B[39m>\u001B[39m \u001B[39m0.3\u001B[39m):\n\u001B[1;32m     <a href='vscode-notebook-cell:/Users/leonurny/Desktop/TUM_Ai_Hackathon/Final%20prediction.ipynb#W4sZmlsZQ%3D%3D?line=31'>32</a>\u001B[0m             outputdays[\u001B[39m'\u001B[39m\u001B[39manomaly\u001B[39m\u001B[39m'\u001B[39m][n] \u001B[39m=\u001B[39m \u001B[39m1\u001B[39m\n\u001B[1;32m     <a href='vscode-notebook-cell:/Users/leonurny/Desktop/TUM_Ai_Hackathon/Final%20prediction.ipynb#W4sZmlsZQ%3D%3D?line=32'>33</a>\u001B[0m     \u001B[39melse\u001B[39;00m:\n",
      "File \u001B[0;32m/Library/Frameworks/Python.framework/Versions/3.10/lib/python3.10/site-packages/pandas/core/series.py:958\u001B[0m, in \u001B[0;36mSeries.__getitem__\u001B[0;34m(self, key)\u001B[0m\n\u001B[1;32m    955\u001B[0m     \u001B[39mreturn\u001B[39;00m \u001B[39mself\u001B[39m\u001B[39m.\u001B[39m_values[key]\n\u001B[1;32m    957\u001B[0m \u001B[39melif\u001B[39;00m key_is_scalar:\n\u001B[0;32m--> 958\u001B[0m     \u001B[39mreturn\u001B[39;00m \u001B[39mself\u001B[39;49m\u001B[39m.\u001B[39;49m_get_value(key)\n\u001B[1;32m    960\u001B[0m \u001B[39mif\u001B[39;00m is_hashable(key):\n\u001B[1;32m    961\u001B[0m     \u001B[39m# Otherwise index.get_value will raise InvalidIndexError\u001B[39;00m\n\u001B[1;32m    962\u001B[0m     \u001B[39mtry\u001B[39;00m:\n\u001B[1;32m    963\u001B[0m         \u001B[39m# For labels that don't resolve as scalars like tuples and frozensets\u001B[39;00m\n",
      "File \u001B[0;32m/Library/Frameworks/Python.framework/Versions/3.10/lib/python3.10/site-packages/pandas/core/series.py:1069\u001B[0m, in \u001B[0;36mSeries._get_value\u001B[0;34m(self, label, takeable)\u001B[0m\n\u001B[1;32m   1066\u001B[0m     \u001B[39mreturn\u001B[39;00m \u001B[39mself\u001B[39m\u001B[39m.\u001B[39m_values[label]\n\u001B[1;32m   1068\u001B[0m \u001B[39m# Similar to Index.get_value, but we do not fall back to positional\u001B[39;00m\n\u001B[0;32m-> 1069\u001B[0m loc \u001B[39m=\u001B[39m \u001B[39mself\u001B[39;49m\u001B[39m.\u001B[39;49mindex\u001B[39m.\u001B[39;49mget_loc(label)\n\u001B[1;32m   1070\u001B[0m \u001B[39mreturn\u001B[39;00m \u001B[39mself\u001B[39m\u001B[39m.\u001B[39mindex\u001B[39m.\u001B[39m_get_values_for_loc(\u001B[39mself\u001B[39m, loc, label)\n",
      "File \u001B[0;32m/Library/Frameworks/Python.framework/Versions/3.10/lib/python3.10/site-packages/pandas/core/indexes/base.py:3623\u001B[0m, in \u001B[0;36mIndex.get_loc\u001B[0;34m(self, key, method, tolerance)\u001B[0m\n\u001B[1;32m   3621\u001B[0m     \u001B[39mreturn\u001B[39;00m \u001B[39mself\u001B[39m\u001B[39m.\u001B[39m_engine\u001B[39m.\u001B[39mget_loc(casted_key)\n\u001B[1;32m   3622\u001B[0m \u001B[39mexcept\u001B[39;00m \u001B[39mKeyError\u001B[39;00m \u001B[39mas\u001B[39;00m err:\n\u001B[0;32m-> 3623\u001B[0m     \u001B[39mraise\u001B[39;00m \u001B[39mKeyError\u001B[39;00m(key) \u001B[39mfrom\u001B[39;00m \u001B[39merr\u001B[39;00m\n\u001B[1;32m   3624\u001B[0m \u001B[39mexcept\u001B[39;00m \u001B[39mTypeError\u001B[39;00m:\n\u001B[1;32m   3625\u001B[0m     \u001B[39m# If we have a listlike key, _check_indexing_error will raise\u001B[39;00m\n\u001B[1;32m   3626\u001B[0m     \u001B[39m#  InvalidIndexError. Otherwise we fall through and re-raise\u001B[39;00m\n\u001B[1;32m   3627\u001B[0m     \u001B[39m#  the TypeError.\u001B[39;00m\n\u001B[1;32m   3628\u001B[0m     \u001B[39mself\u001B[39m\u001B[39m.\u001B[39m_check_indexing_error(key)\n",
      "\u001B[0;31mKeyError\u001B[0m: 'anomaly'"
     ]
    }
   ],
   "source": [
    "tmp = pd.read_csv('/Users/leonurny/Desktop/TUM_Ai_Hackathon/test_data_1.csv')\n",
    "tmp.rename(columns={'0':'heart_rate', '1':'timestamp','2':'y_validate'}, inplace=True)\n",
    "df = tmp.copy()\n",
    "outputdays = anomaly_detection(df)"
   ]
  },
  {
   "cell_type": "code",
   "execution_count": 55,
   "metadata": {
    "pycharm": {
     "name": "#%%\n"
    }
   },
   "outputs": [
    {
     "name": "stdout",
     "output_type": "stream",
     "text": [
      "accuracy: 0.1038961038961039\n",
      "f1: 0.14814814814814817\n",
      "recall: 0.08695652173913043\n",
      "precision: 0.5\n"
     ]
    }
   ],
   "source": [
    "print('accuracy: ' + str(sklearn.metrics.accuracy_score(outputdays['y_validate'], outputdays['anomaly'])))\n",
    "print('f1: ' + str(sklearn.metrics.f1_score(outputdays['y_validate'], outputdays['anomaly'],)))\n",
    "print('recall: ' + str(sklearn.metrics.recall_score(outputdays['y_validate'], outputdays['anomaly'],)))\n",
    "print('precision: ' + str(sklearn.metrics.precision_score(outputdays['y_validate'], outputdays['anomaly'],)))"
   ]
  },
  {
   "cell_type": "markdown",
   "metadata": {
    "pycharm": {
     "name": "#%% md\n"
    }
   },
   "source": [
    "<h1>Export<h1>"
   ]
  },
  {
   "cell_type": "code",
   "execution_count": 56,
   "metadata": {
    "pycharm": {
     "name": "#%%\n"
    }
   },
   "outputs": [],
   "source": [
    "outputdays.to_csv('Outputvorlage.csv')"
   ]
  },
  {
   "cell_type": "markdown",
   "metadata": {
    "pycharm": {
     "name": "#%% md\n"
    }
   },
   "source": [
    "<h1>Decision Tree<h1>"
   ]
  },
  {
   "cell_type": "code",
   "execution_count": 51,
   "metadata": {
    "pycharm": {
     "name": "#%%\n"
    }
   },
   "outputs": [
    {
     "data": {
      "text/html": [
       "<div>\n",
       "<style scoped>\n",
       "    .dataframe tbody tr th:only-of-type {\n",
       "        vertical-align: middle;\n",
       "    }\n",
       "\n",
       "    .dataframe tbody tr th {\n",
       "        vertical-align: top;\n",
       "    }\n",
       "\n",
       "    .dataframe thead th {\n",
       "        text-align: right;\n",
       "    }\n",
       "</style>\n",
       "<table border=\"1\" class=\"dataframe\">\n",
       "  <thead>\n",
       "    <tr style=\"text-align: right;\">\n",
       "      <th></th>\n",
       "      <th>h</th>\n",
       "      <th>y_validate</th>\n",
       "    </tr>\n",
       "    <tr>\n",
       "      <th>timestamp</th>\n",
       "      <th></th>\n",
       "      <th></th>\n",
       "    </tr>\n",
       "  </thead>\n",
       "  <tbody>\n",
       "    <tr>\n",
       "      <th>2024-07-27 05:25:18</th>\n",
       "      <td>50.6</td>\n",
       "      <td>NaN</td>\n",
       "    </tr>\n",
       "    <tr>\n",
       "      <th>2024-07-27 05:51:50</th>\n",
       "      <td>61.0</td>\n",
       "      <td>NaN</td>\n",
       "    </tr>\n",
       "    <tr>\n",
       "      <th>2024-07-28 05:04:20</th>\n",
       "      <td>62.6</td>\n",
       "      <td>NaN</td>\n",
       "    </tr>\n",
       "    <tr>\n",
       "      <th>2024-07-28 05:29:17</th>\n",
       "      <td>64.0</td>\n",
       "      <td>NaN</td>\n",
       "    </tr>\n",
       "    <tr>\n",
       "      <th>2024-07-28 05:57:51</th>\n",
       "      <td>60.0</td>\n",
       "      <td>NaN</td>\n",
       "    </tr>\n",
       "    <tr>\n",
       "      <th>...</th>\n",
       "      <td>...</td>\n",
       "      <td>...</td>\n",
       "    </tr>\n",
       "    <tr>\n",
       "      <th>2029-04-11 04:11:17</th>\n",
       "      <td>72.3</td>\n",
       "      <td>NaN</td>\n",
       "    </tr>\n",
       "    <tr>\n",
       "      <th>2029-04-11 04:29:09</th>\n",
       "      <td>73.4</td>\n",
       "      <td>NaN</td>\n",
       "    </tr>\n",
       "    <tr>\n",
       "      <th>2029-04-11 04:51:03</th>\n",
       "      <td>74.0</td>\n",
       "      <td>NaN</td>\n",
       "    </tr>\n",
       "    <tr>\n",
       "      <th>2029-04-11 05:13:53</th>\n",
       "      <td>75.0</td>\n",
       "      <td>NaN</td>\n",
       "    </tr>\n",
       "    <tr>\n",
       "      <th>2029-04-11 05:33:48</th>\n",
       "      <td>75.8</td>\n",
       "      <td>NaN</td>\n",
       "    </tr>\n",
       "  </tbody>\n",
       "</table>\n",
       "<p>213394 rows × 2 columns</p>\n",
       "</div>"
      ],
      "text/plain": [
       "                        h  y_validate\n",
       "timestamp                            \n",
       "2024-07-27 05:25:18  50.6         NaN\n",
       "2024-07-27 05:51:50  61.0         NaN\n",
       "2024-07-28 05:04:20  62.6         NaN\n",
       "2024-07-28 05:29:17  64.0         NaN\n",
       "2024-07-28 05:57:51  60.0         NaN\n",
       "...                   ...         ...\n",
       "2029-04-11 04:11:17  72.3         NaN\n",
       "2029-04-11 04:29:09  73.4         NaN\n",
       "2029-04-11 04:51:03  74.0         NaN\n",
       "2029-04-11 05:13:53  75.0         NaN\n",
       "2029-04-11 05:33:48  75.8         NaN\n",
       "\n",
       "[213394 rows x 2 columns]"
      ]
     },
     "execution_count": 51,
     "metadata": {},
     "output_type": "execute_result"
    }
   ],
   "source": [
    "os.chdir(\"//Users/leonurny/Desktop/TUM_Ai_Hackathon/Training\")\n",
    "extension = 'csv'\n",
    "all_filenames = [i for i in glob.glob('*.{}'.format(extension))]\n",
    "#combine all files in the list\n",
    "tmp = pd.concat([pd.read_csv(f) for f in all_filenames ])\n",
    "\n",
    "#tmp = pd.read_csv('/Users/leonurny/Desktop/TUM_Ai_Hackathon/test_data_1.csv')\n",
    "tmp.rename(columns={'1':'h', '0':'timestamp','2':'y_validate'}, inplace=True)\n",
    "df = tmp.copy()\n",
    "df =df.drop('Unnamed: 0', axis =1)\n",
    "df =df.set_index('timestamp', drop = True)\n",
    "df"
   ]
  },
  {
   "cell_type": "code",
   "execution_count": 52,
   "metadata": {
    "pycharm": {
     "name": "#%%\n"
    }
   },
   "outputs": [],
   "source": [
    "for i in range(1,100):\n",
    "    df['h-'+str(i)] = df['h'].shift(-i)\n",
    "df =df.dropna()\n",
    "from sklearn.utils import shuffle\n",
    "df = shuffle(df)"
   ]
  },
  {
   "cell_type": "code",
   "execution_count": 53,
   "metadata": {
    "pycharm": {
     "name": "#%%\n"
    }
   },
   "outputs": [],
   "source": [
    "#X, Y split\n",
    "Y_Train = df['y_validate']\n",
    "df = df.drop('y_validate', axis =1)\n",
    "X_Train = df.copy()"
   ]
  },
  {
   "cell_type": "code",
   "execution_count": 54,
   "metadata": {
    "pycharm": {
     "name": "#%%\n"
    }
   },
   "outputs": [
    {
     "data": {
      "text/html": [
       "<div>\n",
       "<style scoped>\n",
       "    .dataframe tbody tr th:only-of-type {\n",
       "        vertical-align: middle;\n",
       "    }\n",
       "\n",
       "    .dataframe tbody tr th {\n",
       "        vertical-align: top;\n",
       "    }\n",
       "\n",
       "    .dataframe thead th {\n",
       "        text-align: right;\n",
       "    }\n",
       "</style>\n",
       "<table border=\"1\" class=\"dataframe\">\n",
       "  <thead>\n",
       "    <tr style=\"text-align: right;\">\n",
       "      <th></th>\n",
       "      <th>h</th>\n",
       "      <th>h-1</th>\n",
       "      <th>h-2</th>\n",
       "      <th>h-3</th>\n",
       "      <th>h-4</th>\n",
       "      <th>h-5</th>\n",
       "      <th>h-6</th>\n",
       "      <th>h-7</th>\n",
       "      <th>h-8</th>\n",
       "      <th>h-9</th>\n",
       "      <th>...</th>\n",
       "      <th>h-90</th>\n",
       "      <th>h-91</th>\n",
       "      <th>h-92</th>\n",
       "      <th>h-93</th>\n",
       "      <th>h-94</th>\n",
       "      <th>h-95</th>\n",
       "      <th>h-96</th>\n",
       "      <th>h-97</th>\n",
       "      <th>h-98</th>\n",
       "      <th>h-99</th>\n",
       "    </tr>\n",
       "    <tr>\n",
       "      <th>timestamp</th>\n",
       "      <th></th>\n",
       "      <th></th>\n",
       "      <th></th>\n",
       "      <th></th>\n",
       "      <th></th>\n",
       "      <th></th>\n",
       "      <th></th>\n",
       "      <th></th>\n",
       "      <th></th>\n",
       "      <th></th>\n",
       "      <th></th>\n",
       "      <th></th>\n",
       "      <th></th>\n",
       "      <th></th>\n",
       "      <th></th>\n",
       "      <th></th>\n",
       "      <th></th>\n",
       "      <th></th>\n",
       "      <th></th>\n",
       "      <th></th>\n",
       "      <th></th>\n",
       "    </tr>\n",
       "  </thead>\n",
       "  <tbody>\n",
       "    <tr>\n",
       "      <th>2027-07-02 02:48:02</th>\n",
       "      <td>67.705000</td>\n",
       "      <td>71.207381</td>\n",
       "      <td>71.043651</td>\n",
       "      <td>70.380952</td>\n",
       "      <td>70.036190</td>\n",
       "      <td>72.410159</td>\n",
       "      <td>72.312698</td>\n",
       "      <td>71.213333</td>\n",
       "      <td>70.777778</td>\n",
       "      <td>70.840000</td>\n",
       "      <td>...</td>\n",
       "      <td>72.023810</td>\n",
       "      <td>69.184286</td>\n",
       "      <td>69.273333</td>\n",
       "      <td>62.763571</td>\n",
       "      <td>63.995960</td>\n",
       "      <td>76.952619</td>\n",
       "      <td>90.574286</td>\n",
       "      <td>68.018095</td>\n",
       "      <td>68.247222</td>\n",
       "      <td>68.818095</td>\n",
       "    </tr>\n",
       "    <tr>\n",
       "      <th>2025-12-13 05:51:02</th>\n",
       "      <td>70.198485</td>\n",
       "      <td>63.591126</td>\n",
       "      <td>65.977778</td>\n",
       "      <td>73.452056</td>\n",
       "      <td>74.753333</td>\n",
       "      <td>74.074747</td>\n",
       "      <td>75.155455</td>\n",
       "      <td>75.187518</td>\n",
       "      <td>84.741263</td>\n",
       "      <td>117.020635</td>\n",
       "      <td>...</td>\n",
       "      <td>61.961111</td>\n",
       "      <td>65.391190</td>\n",
       "      <td>64.415873</td>\n",
       "      <td>61.719769</td>\n",
       "      <td>62.308333</td>\n",
       "      <td>71.702922</td>\n",
       "      <td>93.819444</td>\n",
       "      <td>85.606061</td>\n",
       "      <td>65.909921</td>\n",
       "      <td>68.448810</td>\n",
       "    </tr>\n",
       "    <tr>\n",
       "      <th>2024-05-03 04:54:02</th>\n",
       "      <td>60.119048</td>\n",
       "      <td>64.754524</td>\n",
       "      <td>60.928333</td>\n",
       "      <td>59.739048</td>\n",
       "      <td>58.030952</td>\n",
       "      <td>57.520000</td>\n",
       "      <td>59.463810</td>\n",
       "      <td>68.505000</td>\n",
       "      <td>68.081667</td>\n",
       "      <td>67.108333</td>\n",
       "      <td>...</td>\n",
       "      <td>60.212857</td>\n",
       "      <td>61.625000</td>\n",
       "      <td>60.640079</td>\n",
       "      <td>60.566667</td>\n",
       "      <td>61.206349</td>\n",
       "      <td>58.333333</td>\n",
       "      <td>62.962778</td>\n",
       "      <td>59.033983</td>\n",
       "      <td>58.407619</td>\n",
       "      <td>60.943723</td>\n",
       "    </tr>\n",
       "    <tr>\n",
       "      <th>2026-12-03 04:22:05</th>\n",
       "      <td>49.731429</td>\n",
       "      <td>53.150000</td>\n",
       "      <td>48.560000</td>\n",
       "      <td>52.624762</td>\n",
       "      <td>53.250000</td>\n",
       "      <td>48.063333</td>\n",
       "      <td>48.063492</td>\n",
       "      <td>50.313333</td>\n",
       "      <td>47.851667</td>\n",
       "      <td>48.760000</td>\n",
       "      <td>...</td>\n",
       "      <td>53.315556</td>\n",
       "      <td>52.036111</td>\n",
       "      <td>49.757143</td>\n",
       "      <td>49.263333</td>\n",
       "      <td>49.513333</td>\n",
       "      <td>49.260000</td>\n",
       "      <td>49.817857</td>\n",
       "      <td>48.920000</td>\n",
       "      <td>48.790000</td>\n",
       "      <td>51.706667</td>\n",
       "    </tr>\n",
       "    <tr>\n",
       "      <th>2024-12-06 02:46:00</th>\n",
       "      <td>74.039683</td>\n",
       "      <td>73.743889</td>\n",
       "      <td>73.044048</td>\n",
       "      <td>79.776667</td>\n",
       "      <td>76.869444</td>\n",
       "      <td>73.789646</td>\n",
       "      <td>74.581183</td>\n",
       "      <td>71.158333</td>\n",
       "      <td>70.917143</td>\n",
       "      <td>70.217857</td>\n",
       "      <td>...</td>\n",
       "      <td>73.881667</td>\n",
       "      <td>73.410000</td>\n",
       "      <td>72.400794</td>\n",
       "      <td>72.031746</td>\n",
       "      <td>72.716126</td>\n",
       "      <td>71.560556</td>\n",
       "      <td>73.985000</td>\n",
       "      <td>76.537540</td>\n",
       "      <td>71.953571</td>\n",
       "      <td>74.042222</td>\n",
       "    </tr>\n",
       "    <tr>\n",
       "      <th>...</th>\n",
       "      <td>...</td>\n",
       "      <td>...</td>\n",
       "      <td>...</td>\n",
       "      <td>...</td>\n",
       "      <td>...</td>\n",
       "      <td>...</td>\n",
       "      <td>...</td>\n",
       "      <td>...</td>\n",
       "      <td>...</td>\n",
       "      <td>...</td>\n",
       "      <td>...</td>\n",
       "      <td>...</td>\n",
       "      <td>...</td>\n",
       "      <td>...</td>\n",
       "      <td>...</td>\n",
       "      <td>...</td>\n",
       "      <td>...</td>\n",
       "      <td>...</td>\n",
       "      <td>...</td>\n",
       "      <td>...</td>\n",
       "      <td>...</td>\n",
       "    </tr>\n",
       "    <tr>\n",
       "      <th>2026-04-15 05:45:00</th>\n",
       "      <td>70.388254</td>\n",
       "      <td>71.343730</td>\n",
       "      <td>72.825000</td>\n",
       "      <td>73.728333</td>\n",
       "      <td>80.980556</td>\n",
       "      <td>82.583117</td>\n",
       "      <td>86.531667</td>\n",
       "      <td>83.682857</td>\n",
       "      <td>85.694048</td>\n",
       "      <td>89.308333</td>\n",
       "      <td>...</td>\n",
       "      <td>72.704762</td>\n",
       "      <td>70.269048</td>\n",
       "      <td>71.445000</td>\n",
       "      <td>72.257143</td>\n",
       "      <td>71.864286</td>\n",
       "      <td>73.682222</td>\n",
       "      <td>69.747619</td>\n",
       "      <td>75.068333</td>\n",
       "      <td>89.851905</td>\n",
       "      <td>89.795000</td>\n",
       "    </tr>\n",
       "    <tr>\n",
       "      <th>2026-04-14 03:25:09</th>\n",
       "      <td>96.524242</td>\n",
       "      <td>93.314286</td>\n",
       "      <td>93.758333</td>\n",
       "      <td>94.665714</td>\n",
       "      <td>99.165260</td>\n",
       "      <td>94.059697</td>\n",
       "      <td>91.160714</td>\n",
       "      <td>92.745952</td>\n",
       "      <td>95.978095</td>\n",
       "      <td>92.859798</td>\n",
       "      <td>...</td>\n",
       "      <td>99.909127</td>\n",
       "      <td>95.454545</td>\n",
       "      <td>94.657677</td>\n",
       "      <td>94.518413</td>\n",
       "      <td>95.072020</td>\n",
       "      <td>92.718254</td>\n",
       "      <td>92.482063</td>\n",
       "      <td>89.408586</td>\n",
       "      <td>94.138961</td>\n",
       "      <td>92.461111</td>\n",
       "    </tr>\n",
       "    <tr>\n",
       "      <th>2024-06-14 04:09:00</th>\n",
       "      <td>81.016667</td>\n",
       "      <td>82.827381</td>\n",
       "      <td>84.587302</td>\n",
       "      <td>84.075000</td>\n",
       "      <td>82.400000</td>\n",
       "      <td>85.908333</td>\n",
       "      <td>87.186905</td>\n",
       "      <td>94.932143</td>\n",
       "      <td>83.103333</td>\n",
       "      <td>78.517857</td>\n",
       "      <td>...</td>\n",
       "      <td>76.565000</td>\n",
       "      <td>74.075794</td>\n",
       "      <td>72.611429</td>\n",
       "      <td>72.106061</td>\n",
       "      <td>74.203889</td>\n",
       "      <td>76.101667</td>\n",
       "      <td>76.945000</td>\n",
       "      <td>76.659286</td>\n",
       "      <td>72.771429</td>\n",
       "      <td>73.754286</td>\n",
       "    </tr>\n",
       "    <tr>\n",
       "      <th>2024-06-06 02:19:04</th>\n",
       "      <td>69.035952</td>\n",
       "      <td>66.034286</td>\n",
       "      <td>66.057937</td>\n",
       "      <td>66.876190</td>\n",
       "      <td>71.956667</td>\n",
       "      <td>75.726032</td>\n",
       "      <td>76.787273</td>\n",
       "      <td>78.927706</td>\n",
       "      <td>79.651263</td>\n",
       "      <td>82.597619</td>\n",
       "      <td>...</td>\n",
       "      <td>62.795476</td>\n",
       "      <td>62.293651</td>\n",
       "      <td>62.753333</td>\n",
       "      <td>62.545714</td>\n",
       "      <td>61.888889</td>\n",
       "      <td>60.534524</td>\n",
       "      <td>59.469048</td>\n",
       "      <td>58.917143</td>\n",
       "      <td>58.294762</td>\n",
       "      <td>58.278810</td>\n",
       "    </tr>\n",
       "    <tr>\n",
       "      <th>2026-01-23 02:02:07</th>\n",
       "      <td>102.761645</td>\n",
       "      <td>77.137778</td>\n",
       "      <td>79.935714</td>\n",
       "      <td>76.180375</td>\n",
       "      <td>73.292958</td>\n",
       "      <td>79.360505</td>\n",
       "      <td>87.077273</td>\n",
       "      <td>106.273838</td>\n",
       "      <td>113.550974</td>\n",
       "      <td>96.275000</td>\n",
       "      <td>...</td>\n",
       "      <td>78.084661</td>\n",
       "      <td>76.098182</td>\n",
       "      <td>78.004444</td>\n",
       "      <td>83.327381</td>\n",
       "      <td>84.161905</td>\n",
       "      <td>85.280952</td>\n",
       "      <td>86.743810</td>\n",
       "      <td>86.179762</td>\n",
       "      <td>85.878571</td>\n",
       "      <td>83.892460</td>\n",
       "    </tr>\n",
       "  </tbody>\n",
       "</table>\n",
       "<p>72063 rows × 100 columns</p>\n",
       "</div>"
      ],
      "text/plain": [
       "                              h        h-1        h-2        h-3        h-4  \\\n",
       "timestamp                                                                     \n",
       "2027-07-02 02:48:02   67.705000  71.207381  71.043651  70.380952  70.036190   \n",
       "2025-12-13 05:51:02   70.198485  63.591126  65.977778  73.452056  74.753333   \n",
       "2024-05-03 04:54:02   60.119048  64.754524  60.928333  59.739048  58.030952   \n",
       "2026-12-03 04:22:05   49.731429  53.150000  48.560000  52.624762  53.250000   \n",
       "2024-12-06 02:46:00   74.039683  73.743889  73.044048  79.776667  76.869444   \n",
       "...                         ...        ...        ...        ...        ...   \n",
       "2026-04-15 05:45:00   70.388254  71.343730  72.825000  73.728333  80.980556   \n",
       "2026-04-14 03:25:09   96.524242  93.314286  93.758333  94.665714  99.165260   \n",
       "2024-06-14 04:09:00   81.016667  82.827381  84.587302  84.075000  82.400000   \n",
       "2024-06-06 02:19:04   69.035952  66.034286  66.057937  66.876190  71.956667   \n",
       "2026-01-23 02:02:07  102.761645  77.137778  79.935714  76.180375  73.292958   \n",
       "\n",
       "                           h-5        h-6         h-7         h-8         h-9  \\\n",
       "timestamp                                                                       \n",
       "2027-07-02 02:48:02  72.410159  72.312698   71.213333   70.777778   70.840000   \n",
       "2025-12-13 05:51:02  74.074747  75.155455   75.187518   84.741263  117.020635   \n",
       "2024-05-03 04:54:02  57.520000  59.463810   68.505000   68.081667   67.108333   \n",
       "2026-12-03 04:22:05  48.063333  48.063492   50.313333   47.851667   48.760000   \n",
       "2024-12-06 02:46:00  73.789646  74.581183   71.158333   70.917143   70.217857   \n",
       "...                        ...        ...         ...         ...         ...   \n",
       "2026-04-15 05:45:00  82.583117  86.531667   83.682857   85.694048   89.308333   \n",
       "2026-04-14 03:25:09  94.059697  91.160714   92.745952   95.978095   92.859798   \n",
       "2024-06-14 04:09:00  85.908333  87.186905   94.932143   83.103333   78.517857   \n",
       "2024-06-06 02:19:04  75.726032  76.787273   78.927706   79.651263   82.597619   \n",
       "2026-01-23 02:02:07  79.360505  87.077273  106.273838  113.550974   96.275000   \n",
       "\n",
       "                     ...       h-90       h-91       h-92       h-93  \\\n",
       "timestamp            ...                                               \n",
       "2027-07-02 02:48:02  ...  72.023810  69.184286  69.273333  62.763571   \n",
       "2025-12-13 05:51:02  ...  61.961111  65.391190  64.415873  61.719769   \n",
       "2024-05-03 04:54:02  ...  60.212857  61.625000  60.640079  60.566667   \n",
       "2026-12-03 04:22:05  ...  53.315556  52.036111  49.757143  49.263333   \n",
       "2024-12-06 02:46:00  ...  73.881667  73.410000  72.400794  72.031746   \n",
       "...                  ...        ...        ...        ...        ...   \n",
       "2026-04-15 05:45:00  ...  72.704762  70.269048  71.445000  72.257143   \n",
       "2026-04-14 03:25:09  ...  99.909127  95.454545  94.657677  94.518413   \n",
       "2024-06-14 04:09:00  ...  76.565000  74.075794  72.611429  72.106061   \n",
       "2024-06-06 02:19:04  ...  62.795476  62.293651  62.753333  62.545714   \n",
       "2026-01-23 02:02:07  ...  78.084661  76.098182  78.004444  83.327381   \n",
       "\n",
       "                          h-94       h-95       h-96       h-97       h-98  \\\n",
       "timestamp                                                                    \n",
       "2027-07-02 02:48:02  63.995960  76.952619  90.574286  68.018095  68.247222   \n",
       "2025-12-13 05:51:02  62.308333  71.702922  93.819444  85.606061  65.909921   \n",
       "2024-05-03 04:54:02  61.206349  58.333333  62.962778  59.033983  58.407619   \n",
       "2026-12-03 04:22:05  49.513333  49.260000  49.817857  48.920000  48.790000   \n",
       "2024-12-06 02:46:00  72.716126  71.560556  73.985000  76.537540  71.953571   \n",
       "...                        ...        ...        ...        ...        ...   \n",
       "2026-04-15 05:45:00  71.864286  73.682222  69.747619  75.068333  89.851905   \n",
       "2026-04-14 03:25:09  95.072020  92.718254  92.482063  89.408586  94.138961   \n",
       "2024-06-14 04:09:00  74.203889  76.101667  76.945000  76.659286  72.771429   \n",
       "2024-06-06 02:19:04  61.888889  60.534524  59.469048  58.917143  58.294762   \n",
       "2026-01-23 02:02:07  84.161905  85.280952  86.743810  86.179762  85.878571   \n",
       "\n",
       "                          h-99  \n",
       "timestamp                       \n",
       "2027-07-02 02:48:02  68.818095  \n",
       "2025-12-13 05:51:02  68.448810  \n",
       "2024-05-03 04:54:02  60.943723  \n",
       "2026-12-03 04:22:05  51.706667  \n",
       "2024-12-06 02:46:00  74.042222  \n",
       "...                        ...  \n",
       "2026-04-15 05:45:00  89.795000  \n",
       "2026-04-14 03:25:09  92.461111  \n",
       "2024-06-14 04:09:00  73.754286  \n",
       "2024-06-06 02:19:04  58.278810  \n",
       "2026-01-23 02:02:07  83.892460  \n",
       "\n",
       "[72063 rows x 100 columns]"
      ]
     },
     "execution_count": 54,
     "metadata": {},
     "output_type": "execute_result"
    }
   ],
   "source": [
    "X_Train"
   ]
  },
  {
   "cell_type": "code",
   "execution_count": 55,
   "metadata": {
    "pycharm": {
     "name": "#%%\n"
    }
   },
   "outputs": [],
   "source": [
    "from sklearn import tree\n",
    "clf = tree.DecisionTreeClassifier()\n",
    "#clf = clf.fit(X_Train, Y_Train)\n",
    "\n",
    "from sklearn.ensemble import RandomForestClassifier\n",
    "\n",
    "#Create a Gaussian Classifier\n",
    "#clf=RandomForestClassifier(n_estimators=100,)\n",
    "clf = tree.DecisionTreeClassifier()\n",
    "\n",
    "#Train the model using the training sets y_pred=clf.predict(X_test)\n",
    "clf.fit(X_Train,Y_Train)\n",
    "Y_Predict = clf.predict(X_Train)"
   ]
  },
  {
   "cell_type": "code",
   "execution_count": null,
   "metadata": {
    "pycharm": {
     "name": "#%%\n"
    }
   },
   "outputs": [],
   "source": []
  },
  {
   "cell_type": "markdown",
   "metadata": {
    "pycharm": {
     "name": "#%% md\n"
    }
   },
   "source": [
    "<h1>Decision Tree performance<h1>"
   ]
  },
  {
   "cell_type": "code",
   "execution_count": 56,
   "metadata": {
    "pycharm": {
     "name": "#%%\n"
    }
   },
   "outputs": [
    {
     "name": "stdout",
     "output_type": "stream",
     "text": [
      "accuracy: 1.0\n",
      "f1: 1.0\n",
      "recall: 1.0\n",
      "precision: 1.0\n"
     ]
    }
   ],
   "source": [
    "#Training set performance\n",
    "print('accuracy: ' + str(sklearn.metrics.accuracy_score(Y_Train, Y_Predict)))\n",
    "print('f1: ' + str(sklearn.metrics.f1_score(Y_Train, Y_Predict)))\n",
    "print('recall: ' + str(sklearn.metrics.recall_score(Y_Train, Y_Predict)))\n",
    "print('precision: ' + str(sklearn.metrics.precision_score(Y_Train, Y_Predict)))"
   ]
  },
  {
   "cell_type": "markdown",
   "metadata": {
    "pycharm": {
     "name": "#%% md\n"
    }
   },
   "source": [
    "<h1>Test set prepare<h1>"
   ]
  },
  {
   "cell_type": "code",
   "execution_count": 57,
   "metadata": {
    "pycharm": {
     "name": "#%%\n"
    }
   },
   "outputs": [
    {
     "data": {
      "text/html": [
       "<div>\n",
       "<style scoped>\n",
       "    .dataframe tbody tr th:only-of-type {\n",
       "        vertical-align: middle;\n",
       "    }\n",
       "\n",
       "    .dataframe tbody tr th {\n",
       "        vertical-align: top;\n",
       "    }\n",
       "\n",
       "    .dataframe thead th {\n",
       "        text-align: right;\n",
       "    }\n",
       "</style>\n",
       "<table border=\"1\" class=\"dataframe\">\n",
       "  <thead>\n",
       "    <tr style=\"text-align: right;\">\n",
       "      <th></th>\n",
       "      <th>h</th>\n",
       "      <th>y_validate</th>\n",
       "    </tr>\n",
       "    <tr>\n",
       "      <th>timestamp</th>\n",
       "      <th></th>\n",
       "      <th></th>\n",
       "    </tr>\n",
       "  </thead>\n",
       "  <tbody>\n",
       "    <tr>\n",
       "      <th>2025-09-14 04:27:05</th>\n",
       "      <td>98</td>\n",
       "      <td>0</td>\n",
       "    </tr>\n",
       "    <tr>\n",
       "      <th>2025-09-14 04:47:51</th>\n",
       "      <td>76</td>\n",
       "      <td>0</td>\n",
       "    </tr>\n",
       "    <tr>\n",
       "      <th>2025-09-14 04:51:21</th>\n",
       "      <td>78</td>\n",
       "      <td>0</td>\n",
       "    </tr>\n",
       "    <tr>\n",
       "      <th>2025-09-14 04:55:06</th>\n",
       "      <td>81</td>\n",
       "      <td>0</td>\n",
       "    </tr>\n",
       "    <tr>\n",
       "      <th>2025-09-14 04:58:42</th>\n",
       "      <td>81</td>\n",
       "      <td>0</td>\n",
       "    </tr>\n",
       "    <tr>\n",
       "      <th>...</th>\n",
       "      <td>...</td>\n",
       "      <td>...</td>\n",
       "    </tr>\n",
       "    <tr>\n",
       "      <th>2025-12-05 05:17:35</th>\n",
       "      <td>74</td>\n",
       "      <td>1</td>\n",
       "    </tr>\n",
       "    <tr>\n",
       "      <th>2025-12-05 05:20:47</th>\n",
       "      <td>79</td>\n",
       "      <td>1</td>\n",
       "    </tr>\n",
       "    <tr>\n",
       "      <th>2025-12-05 05:28:04</th>\n",
       "      <td>106</td>\n",
       "      <td>1</td>\n",
       "    </tr>\n",
       "    <tr>\n",
       "      <th>2025-12-05 05:33:03</th>\n",
       "      <td>81</td>\n",
       "      <td>1</td>\n",
       "    </tr>\n",
       "    <tr>\n",
       "      <th>2025-12-05 05:39:58</th>\n",
       "      <td>67</td>\n",
       "      <td>1</td>\n",
       "    </tr>\n",
       "  </tbody>\n",
       "</table>\n",
       "<p>1765 rows × 2 columns</p>\n",
       "</div>"
      ],
      "text/plain": [
       "                       h  y_validate\n",
       "timestamp                           \n",
       "2025-09-14 04:27:05   98           0\n",
       "2025-09-14 04:47:51   76           0\n",
       "2025-09-14 04:51:21   78           0\n",
       "2025-09-14 04:55:06   81           0\n",
       "2025-09-14 04:58:42   81           0\n",
       "...                  ...         ...\n",
       "2025-12-05 05:17:35   74           1\n",
       "2025-12-05 05:20:47   79           1\n",
       "2025-12-05 05:28:04  106           1\n",
       "2025-12-05 05:33:03   81           1\n",
       "2025-12-05 05:39:58   67           1\n",
       "\n",
       "[1765 rows x 2 columns]"
      ]
     },
     "execution_count": 57,
     "metadata": {},
     "output_type": "execute_result"
    }
   ],
   "source": [
    "\n",
    "tmp = pd.read_csv('/Users/leonurny/Desktop/TUM_Ai_Hackathon/test_data_3.csv')\n",
    "tmp.rename(columns={'heartrate':'h', 'datetime':'timestamp','covid':'y_validate'}, inplace=True)\n",
    "df = tmp.copy()\n",
    "df =df.drop('Unnamed: 0', axis =1)\n",
    "df =df.set_index('timestamp', drop = True)\n",
    "df"
   ]
  },
  {
   "cell_type": "code",
   "execution_count": 58,
   "metadata": {
    "pycharm": {
     "name": "#%%\n"
    }
   },
   "outputs": [],
   "source": [
    "for i in range(1,100):\n",
    "    df['h-'+str(i)] = df['h'].shift(-i)\n",
    "df =df.dropna()\n",
    "from sklearn.utils import shuffle\n",
    "df = shuffle(df)"
   ]
  },
  {
   "cell_type": "code",
   "execution_count": 59,
   "metadata": {
    "pycharm": {
     "name": "#%%\n"
    }
   },
   "outputs": [],
   "source": [
    "#Test data\n",
    "Y_Test = df['y_validate']\n",
    "df = df.drop('y_validate', axis =1)\n",
    "X_Test = df.copy()"
   ]
  },
  {
   "cell_type": "code",
   "execution_count": 60,
   "metadata": {
    "pycharm": {
     "name": "#%%\n"
    }
   },
   "outputs": [],
   "source": [
    "Y_Predict_test = clf.predict(X_Test)"
   ]
  },
  {
   "cell_type": "code",
   "execution_count": 61,
   "metadata": {
    "pycharm": {
     "name": "#%%\n"
    }
   },
   "outputs": [
    {
     "name": "stdout",
     "output_type": "stream",
     "text": [
      "accuracy: 0.47118847539015607\n",
      "f1: 0.6127472527472527\n",
      "recall: 0.4552580013063357\n",
      "precision: 0.9368279569892473\n"
     ]
    }
   ],
   "source": [
    "#Training set performance\n",
    "print('accuracy: ' + str(sklearn.metrics.accuracy_score(Y_Test, Y_Predict_test)))\n",
    "print('f1: ' + str(sklearn.metrics.f1_score(Y_Test, Y_Predict_test)))\n",
    "print('recall: ' + str(sklearn.metrics.recall_score(Y_Test, Y_Predict_test)))\n",
    "print('precision: ' + str(sklearn.metrics.precision_score(Y_Test, Y_Predict_test)))"
   ]
  },
  {
   "cell_type": "markdown",
   "metadata": {
    "pycharm": {
     "name": "#%% md\n"
    }
   },
   "source": [
    "<h1>Make final Predictions<h1>\n"
   ]
  },
  {
   "cell_type": "code",
   "execution_count": 120,
   "metadata": {
    "pycharm": {
     "name": "#%%\n"
    }
   },
   "outputs": [],
   "source": [
    "os.chdir(\"/Users/leonurny/Downloads/testdata 2\")\n",
    "extension = 'csv'\n",
    "all_filenames = [i for i in glob.glob('*.{}'.format(extension))]\n",
    "for file in all_filenames:\n",
    "    original = pd.read_csv(file).copy()\n",
    "    test = original.copy()\n",
    "    test.rename(columns={'heart_rate':'h'}, inplace=True)\n",
    "    test =test.set_index('timestamp', drop = True)\n",
    "\n",
    "    for i in range(1,100):\n",
    "        test['h-'+str(i)] = test['h'].shift(-i)\n",
    "    test =test.dropna()\n",
    "    from sklearn.utils import shuffle\n",
    "    test = shuffle(test)\n",
    "\n",
    "    Y_Predict_final = clf.predict(test)\n",
    "\n",
    "    Y_final_for_merge = []\n",
    "    for i in range(1,100):\n",
    "        Y_final_for_merge.append(0)\n",
    "        \n",
    "    Y_final_for_merge = np.asarray(Y_final_for_merge)\n",
    "    Y_final_for_merge = np.append(Y_final_for_merge, Y_Predict_final)\n",
    "\n",
    "    original['prediciton'] = Y_final_for_merge\n",
    "\n",
    "    original.to_csv(file)\n",
    "    "
   ]
  }
 ],
 "metadata": {
  "kernelspec": {
   "display_name": "Python 3.10.2 64-bit",
   "language": "python",
   "name": "python3"
  },
  "language_info": {
   "codemirror_mode": {
    "name": "ipython",
    "version": 3
   },
   "file_extension": ".py",
   "mimetype": "text/x-python",
   "name": "python",
   "nbconvert_exporter": "python",
   "pygments_lexer": "ipython3",
   "version": "3.10.2"
  },
  "orig_nbformat": 4,
  "vscode": {
   "interpreter": {
    "hash": "aee8b7b246df8f9039afb4144a1f6fd8d2ca17a180786b69acc140d282b71a49"
   }
  }
 },
 "nbformat": 4,
 "nbformat_minor": 2
}