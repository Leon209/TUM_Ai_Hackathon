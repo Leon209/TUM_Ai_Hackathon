{
 "cells": [
  {
   "cell_type": "code",
   "execution_count": null,
   "metadata": {
    "pycharm": {
     "name": "#%%\n",
     "is_executing": true
    }
   },
   "outputs": [],
   "source": [
    "import os\n",
    "import pandas as pd\n",
    "import datetime\n",
    "import numpy as np"
   ]
  },
  {
   "cell_type": "code",
   "execution_count": 2,
   "metadata": {
    "pycharm": {
     "name": "#%%\n"
    }
   },
   "outputs": [],
   "source": [
    "\n",
    "positive = pd.read_excel('/Users/a2/Downloads/Hackathon2/41591_2021_1593_MOESM3_ESM.xlsx')\n",
    "positive = positive.drop('Device', axis=1)\n",
    "df = positive.copy()"
   ]
  },
  {
   "cell_type": "code",
   "execution_count": 3,
   "metadata": {
    "pycharm": {
     "name": "#%%\n"
    }
   },
   "outputs": [],
   "source": [
    "base_folder = '/Users/a2/Downloads/Hackathon2/Phase2_Data'\n",
    "pid_folders = os.listdir(base_folder)\n",
    "for f in pid_folders:\n",
    "    if f not in positive['Participant ID'].values:\n",
    "        os.system(f\"rm -rf {base_folder}/{f}\")"
   ]
  },
  {
   "cell_type": "code",
   "execution_count": 11,
   "metadata": {
    "pycharm": {
     "name": "#%%\n"
    }
   },
   "outputs": [],
   "source": [
    "from pickletools import int4\n",
    "\n",
    "\n",
    "def get_hr_st(id, date):\n",
    "    files = os.listdir(f'/Users/a2/Downloads/Hackathon2/Phase2_Data/{id}')\n",
    "    files.sort()\n",
    "    apple = False\n",
    "    if files[1].find(\"Non\") != -1:\n",
    "        apple  = True\n",
    "    temp = pd.read_csv(f'/Users/a2/Downloads/Hackathon2/Phase2_Data/{id}/{files[0]}')\n",
    "    heartrate = temp.copy()\n",
    "\n",
    "    print(1)\n",
    "\n",
    "    base = \theartrate.iloc[0]['datetime']\n",
    "    summe = 0\n",
    "    anzahl = 0\n",
    "    heartrate_scaled = pd.DataFrame()\n",
    "    for n, d in enumerate(heartrate['datetime']):\n",
    "        if str(d)[:-3] == base[:-3]:\n",
    "            summe += heartrate['heartrate'][n]\n",
    "            anzahl += 1\n",
    "        else:\n",
    "            temp = [[pd.to_datetime(f\"{base[:-3]}:00\"), int(summe/anzahl)]]\n",
    "            base = d\n",
    "            heartrate_scaled = heartrate_scaled.append(temp)\n",
    "            summe = heartrate['heartrate'][n] \n",
    "            anzahl = 1\n",
    "    \n",
    "    print(2)\n",
    "\n",
    "    heartrate_scaled.rename(columns={0:'datetime', 1:'heartrate', 2: 'steps'}, inplace=True)\n",
    "    temp = pd.read_csv(f'/Users/a2/Downloads/Hackathon2/Phase2_Data/{id}/{files[1]}')\n",
    "    steps = temp.copy()\n",
    "    \n",
    "    steps.rename({'end_datetime': 'datetime'})\n",
    "    count = 0\n",
    "    steps_normalized = pd.DataFrame()\n",
    "    for i in range(len(steps)-1): \n",
    "        value = (steps.iloc[i]['steps']+ steps.iloc[i+1]['steps'] )/ ((pd.to_datetime(steps.iloc[i+1]['datetime']) - pd.to_datetime(steps.iloc[i]['datetime'])).total_seconds()/60)/2\n",
    "        while pd.to_datetime(heartrate_scaled.iloc[count]['datetime']) < pd.to_datetime(steps.iloc[i+1]['datetime']) :\n",
    "            steps_normalized = steps_normalized.append([value])\n",
    "            count = count + 1\n",
    "            try:\n",
    "                assert(count<len(heartrate_scaled))\n",
    "            except BaseException:\n",
    "                break\n",
    "    heartrate_scaled['steps'] = steps_normalized\n",
    "\n",
    "    positive_np = np.zeros(heartrate_scaled.shape[0], dtype=int)\n",
    "\n",
    "    print(3)\n",
    "\n",
    "    positive = False\n",
    "\n",
    "    for i in range(len(heartrate_scaled)):\n",
    "        if date < heartrate_scaled.iloc[i]['datetime']:\n",
    "            positive_np[i] = 1\n",
    "    \n",
    "    heartrate_scaled['positive'] = pd.DataFrame(positive_np)\n",
    "    return heartrate_scaled\n",
    "    # date ist 4 Tage zu spät\n",
    "    "
   ]
  },
  {
   "cell_type": "code",
   "execution_count": 12,
   "metadata": {
    "pycharm": {
     "name": "#%%\n"
    }
   },
   "outputs": [
    {
     "name": "stdout",
     "output_type": "stream",
     "text": [
      "1\n",
      "2\n",
      "3\n",
      "1\n"
     ]
    },
    {
     "ename": "KeyboardInterrupt",
     "evalue": "",
     "output_type": "error",
     "traceback": [
      "\u001B[0;31m---------------------------------------------------------------------------\u001B[0m",
      "\u001B[0;31mKeyboardInterrupt\u001B[0m                         Traceback (most recent call last)",
      "\u001B[1;32m/Users/a2/Downloads/Hackathon2/Preprocess.ipynb Zelle 5\u001B[0m in \u001B[0;36m<cell line: 2>\u001B[0;34m()\u001B[0m\n\u001B[1;32m      <a href='vscode-notebook-cell:/Users/a2/Downloads/Hackathon2/Preprocess.ipynb#X22sZmlsZQ%3D%3D?line=7'>8</a>\u001B[0m \u001B[39mexcept\u001B[39;00m \u001B[39mBaseException\u001B[39;00m:\n\u001B[1;32m      <a href='vscode-notebook-cell:/Users/a2/Downloads/Hackathon2/Preprocess.ipynb#X22sZmlsZQ%3D%3D?line=8'>9</a>\u001B[0m     date \u001B[39m=\u001B[39m pd\u001B[39m.\u001B[39mto_datetime(df[\u001B[39m'\u001B[39m\u001B[39mCOVID-19 Test Date\u001B[39m\u001B[39m'\u001B[39m])[i] \u001B[39m+\u001B[39m pd\u001B[39m.\u001B[39mDateOffset(days\u001B[39m=\u001B[39m\u001B[39m-\u001B[39m\u001B[39m4\u001B[39m)\n\u001B[0;32m---> <a href='vscode-notebook-cell:/Users/a2/Downloads/Hackathon2/Preprocess.ipynb#X22sZmlsZQ%3D%3D?line=9'>10</a>\u001B[0m hl \u001B[39m=\u001B[39m get_hr_st(df[\u001B[39m'\u001B[39;49m\u001B[39mParticipant ID\u001B[39;49m\u001B[39m'\u001B[39;49m][i], date)\n",
      "\u001B[1;32m/Users/a2/Downloads/Hackathon2/Preprocess.ipynb Zelle 5\u001B[0m in \u001B[0;36mget_hr_st\u001B[0;34m(id, date)\u001B[0m\n\u001B[1;32m     <a href='vscode-notebook-cell:/Users/a2/Downloads/Hackathon2/Preprocess.ipynb#X22sZmlsZQ%3D%3D?line=23'>24</a>\u001B[0m temp \u001B[39m=\u001B[39m [[pd\u001B[39m.\u001B[39mto_datetime(\u001B[39mf\u001B[39m\u001B[39m\"\u001B[39m\u001B[39m{\u001B[39;00mbase[:\u001B[39m-\u001B[39m\u001B[39m3\u001B[39m]\u001B[39m}\u001B[39;00m\u001B[39m:00\u001B[39m\u001B[39m\"\u001B[39m), \u001B[39mint\u001B[39m(summe\u001B[39m/\u001B[39manzahl)]]\n\u001B[1;32m     <a href='vscode-notebook-cell:/Users/a2/Downloads/Hackathon2/Preprocess.ipynb#X22sZmlsZQ%3D%3D?line=24'>25</a>\u001B[0m base \u001B[39m=\u001B[39m d\n\u001B[0;32m---> <a href='vscode-notebook-cell:/Users/a2/Downloads/Hackathon2/Preprocess.ipynb#X22sZmlsZQ%3D%3D?line=25'>26</a>\u001B[0m heartrate_scaled \u001B[39m=\u001B[39m heartrate_scaled\u001B[39m.\u001B[39;49mappend(temp)\n\u001B[1;32m     <a href='vscode-notebook-cell:/Users/a2/Downloads/Hackathon2/Preprocess.ipynb#X22sZmlsZQ%3D%3D?line=26'>27</a>\u001B[0m summe \u001B[39m=\u001B[39m heartrate[\u001B[39m'\u001B[39m\u001B[39mheartrate\u001B[39m\u001B[39m'\u001B[39m][n] \n\u001B[1;32m     <a href='vscode-notebook-cell:/Users/a2/Downloads/Hackathon2/Preprocess.ipynb#X22sZmlsZQ%3D%3D?line=27'>28</a>\u001B[0m anzahl \u001B[39m=\u001B[39m \u001B[39m1\u001B[39m\n",
      "File \u001B[0;32m~/opt/anaconda3/lib/python3.8/site-packages/pandas/core/frame.py:8955\u001B[0m, in \u001B[0;36mDataFrame.append\u001B[0;34m(self, other, ignore_index, verify_integrity, sort)\u001B[0m\n\u001B[1;32m   8953\u001B[0m     \u001B[39mpass\u001B[39;00m\n\u001B[1;32m   8954\u001B[0m \u001B[39melif\u001B[39;00m \u001B[39mnot\u001B[39;00m \u001B[39misinstance\u001B[39m(other[\u001B[39m0\u001B[39m], DataFrame):\n\u001B[0;32m-> 8955\u001B[0m     other \u001B[39m=\u001B[39m DataFrame(other)\n\u001B[1;32m   8956\u001B[0m     \u001B[39mif\u001B[39;00m (\u001B[39mself\u001B[39m\u001B[39m.\u001B[39mcolumns\u001B[39m.\u001B[39mget_indexer(other\u001B[39m.\u001B[39mcolumns) \u001B[39m>\u001B[39m\u001B[39m=\u001B[39m \u001B[39m0\u001B[39m)\u001B[39m.\u001B[39mall():\n\u001B[1;32m   8957\u001B[0m         other \u001B[39m=\u001B[39m other\u001B[39m.\u001B[39mreindex(columns\u001B[39m=\u001B[39m\u001B[39mself\u001B[39m\u001B[39m.\u001B[39mcolumns)\n",
      "File \u001B[0;32m~/opt/anaconda3/lib/python3.8/site-packages/pandas/core/frame.py:702\u001B[0m, in \u001B[0;36mDataFrame.__init__\u001B[0;34m(self, data, index, columns, dtype, copy)\u001B[0m\n\u001B[1;32m    693\u001B[0m         columns \u001B[39m=\u001B[39m ensure_index(columns)  \u001B[39m# type: ignore[arg-type]\u001B[39;00m\n\u001B[1;32m    694\u001B[0m     arrays, columns, index \u001B[39m=\u001B[39m nested_data_to_arrays(\n\u001B[1;32m    695\u001B[0m         \u001B[39m# error: Argument 3 to \"nested_data_to_arrays\" has incompatible\u001B[39;00m\n\u001B[1;32m    696\u001B[0m         \u001B[39m# type \"Optional[Collection[Any]]\"; expected \"Optional[Index]\"\u001B[39;00m\n\u001B[0;32m   (...)\u001B[0m\n\u001B[1;32m    700\u001B[0m         dtype,\n\u001B[1;32m    701\u001B[0m     )\n\u001B[0;32m--> 702\u001B[0m     mgr \u001B[39m=\u001B[39m arrays_to_mgr(\n\u001B[1;32m    703\u001B[0m         arrays,\n\u001B[1;32m    704\u001B[0m         columns,\n\u001B[1;32m    705\u001B[0m         index,\n\u001B[1;32m    706\u001B[0m         columns,\n\u001B[1;32m    707\u001B[0m         dtype\u001B[39m=\u001B[39;49mdtype,\n\u001B[1;32m    708\u001B[0m         typ\u001B[39m=\u001B[39;49mmanager,\n\u001B[1;32m    709\u001B[0m     )\n\u001B[1;32m    710\u001B[0m \u001B[39melse\u001B[39;00m:\n\u001B[1;32m    711\u001B[0m     mgr \u001B[39m=\u001B[39m ndarray_to_mgr(\n\u001B[1;32m    712\u001B[0m         data,\n\u001B[1;32m    713\u001B[0m         index,\n\u001B[0;32m   (...)\u001B[0m\n\u001B[1;32m    717\u001B[0m         typ\u001B[39m=\u001B[39mmanager,\n\u001B[1;32m    718\u001B[0m     )\n",
      "File \u001B[0;32m~/opt/anaconda3/lib/python3.8/site-packages/pandas/core/internals/construction.py:124\u001B[0m, in \u001B[0;36marrays_to_mgr\u001B[0;34m(arrays, arr_names, index, columns, dtype, verify_integrity, typ, consolidate)\u001B[0m\n\u001B[1;32m    121\u001B[0m         index \u001B[39m=\u001B[39m ensure_index(index)\n\u001B[1;32m    123\u001B[0m     \u001B[39m# don't force copy because getting jammed in an ndarray anyway\u001B[39;00m\n\u001B[0;32m--> 124\u001B[0m     arrays \u001B[39m=\u001B[39m _homogenize(arrays, index, dtype)\n\u001B[1;32m    126\u001B[0m \u001B[39melse\u001B[39;00m:\n\u001B[1;32m    127\u001B[0m     index \u001B[39m=\u001B[39m ensure_index(index)\n",
      "File \u001B[0;32m~/opt/anaconda3/lib/python3.8/site-packages/pandas/core/internals/construction.py:589\u001B[0m, in \u001B[0;36m_homogenize\u001B[0;34m(data, index, dtype)\u001B[0m\n\u001B[1;32m    586\u001B[0m                 val \u001B[39m=\u001B[39m \u001B[39mdict\u001B[39m(val)\n\u001B[1;32m    587\u001B[0m             val \u001B[39m=\u001B[39m lib\u001B[39m.\u001B[39mfast_multiget(val, oindex\u001B[39m.\u001B[39m_values, default\u001B[39m=\u001B[39mnp\u001B[39m.\u001B[39mnan)\n\u001B[0;32m--> 589\u001B[0m         val \u001B[39m=\u001B[39m sanitize_array(\n\u001B[1;32m    590\u001B[0m             val, index, dtype\u001B[39m=\u001B[39;49mdtype, copy\u001B[39m=\u001B[39;49m\u001B[39mFalse\u001B[39;49;00m, raise_cast_failure\u001B[39m=\u001B[39;49m\u001B[39mFalse\u001B[39;49;00m\n\u001B[1;32m    591\u001B[0m         )\n\u001B[1;32m    593\u001B[0m     homogenized\u001B[39m.\u001B[39mappend(val)\n\u001B[1;32m    595\u001B[0m \u001B[39mreturn\u001B[39;00m homogenized\n",
      "File \u001B[0;32m~/opt/anaconda3/lib/python3.8/site-packages/pandas/core/construction.py:576\u001B[0m, in \u001B[0;36msanitize_array\u001B[0;34m(data, index, dtype, copy, raise_cast_failure, allow_2d)\u001B[0m\n\u001B[1;32m    573\u001B[0m             subarr \u001B[39m=\u001B[39m cast(np\u001B[39m.\u001B[39mndarray, subarr)\n\u001B[1;32m    574\u001B[0m             subarr \u001B[39m=\u001B[39m maybe_infer_to_datetimelike(subarr)\n\u001B[0;32m--> 576\u001B[0m subarr \u001B[39m=\u001B[39m _sanitize_ndim(subarr, data, dtype, index, allow_2d\u001B[39m=\u001B[39;49mallow_2d)\n\u001B[1;32m    578\u001B[0m \u001B[39mif\u001B[39;00m \u001B[39misinstance\u001B[39m(subarr, np\u001B[39m.\u001B[39mndarray):\n\u001B[1;32m    579\u001B[0m     \u001B[39m# at this point we should have dtype be None or subarr.dtype == dtype\u001B[39;00m\n\u001B[1;32m    580\u001B[0m     dtype \u001B[39m=\u001B[39m cast(np\u001B[39m.\u001B[39mdtype, dtype)\n",
      "File \u001B[0;32m~/opt/anaconda3/lib/python3.8/site-packages/pandas/core/construction.py:621\u001B[0m, in \u001B[0;36m_sanitize_ndim\u001B[0;34m(result, data, dtype, index, allow_2d)\u001B[0m\n\u001B[1;32m    617\u001B[0m     \u001B[39mraise\u001B[39;00m \u001B[39mValueError\u001B[39;00m(\u001B[39m\"\u001B[39m\u001B[39mresult should be arraylike with ndim > 0\u001B[39m\u001B[39m\"\u001B[39m)\n\u001B[1;32m    619\u001B[0m \u001B[39melif\u001B[39;00m result\u001B[39m.\u001B[39mndim \u001B[39m==\u001B[39m \u001B[39m1\u001B[39m:\n\u001B[1;32m    620\u001B[0m     \u001B[39m# the result that we want\u001B[39;00m\n\u001B[0;32m--> 621\u001B[0m     result \u001B[39m=\u001B[39m _maybe_repeat(result, index)\n\u001B[1;32m    623\u001B[0m \u001B[39melif\u001B[39;00m result\u001B[39m.\u001B[39mndim \u001B[39m>\u001B[39m \u001B[39m1\u001B[39m:\n\u001B[1;32m    624\u001B[0m     \u001B[39mif\u001B[39;00m \u001B[39misinstance\u001B[39m(data, np\u001B[39m.\u001B[39mndarray):\n",
      "File \u001B[0;32m~/opt/anaconda3/lib/python3.8/site-packages/pandas/core/construction.py:668\u001B[0m, in \u001B[0;36m_maybe_repeat\u001B[0;34m(arr, index)\u001B[0m\n\u001B[1;32m    663\u001B[0m \u001B[39m\"\"\"\u001B[39;00m\n\u001B[1;32m    664\u001B[0m \u001B[39mIf we have a length-1 array and an index describing how long we expect\u001B[39;00m\n\u001B[1;32m    665\u001B[0m \u001B[39mthe result to be, repeat the array.\u001B[39;00m\n\u001B[1;32m    666\u001B[0m \u001B[39m\"\"\"\u001B[39;00m\n\u001B[1;32m    667\u001B[0m \u001B[39mif\u001B[39;00m index \u001B[39mis\u001B[39;00m \u001B[39mnot\u001B[39;00m \u001B[39mNone\u001B[39;00m:\n\u001B[0;32m--> 668\u001B[0m     \u001B[39mif\u001B[39;00m \u001B[39m1\u001B[39m \u001B[39m==\u001B[39m \u001B[39mlen\u001B[39m(arr) \u001B[39m!=\u001B[39m \u001B[39mlen\u001B[39m(index):\n\u001B[1;32m    669\u001B[0m         arr \u001B[39m=\u001B[39m arr\u001B[39m.\u001B[39mrepeat(\u001B[39mlen\u001B[39m(index))\n\u001B[1;32m    670\u001B[0m \u001B[39mreturn\u001B[39;00m arr\n",
      "\u001B[0;31mKeyboardInterrupt\u001B[0m: "
     ]
    }
   ],
   "source": [
    "# 4 days \n",
    "for i in range(len(df)):\n",
    "    # \n",
    "    # hl.to_csv()\n",
    "    # print(df['Participant ID'][i])\n",
    "    try:\n",
    "        date = pd.to_datetime(df['COVID-19 Symptom Onset'][i])\n",
    "    except BaseException:\n",
    "        date = pd.to_datetime(df['COVID-19 Test Date'])[i] + pd.DateOffset(days=-4)\n",
    "    hl = get_hr_st(df['Participant ID'][i], date)\n"
   ]
  },
  {
   "cell_type": "code",
   "execution_count": null,
   "metadata": {
    "pycharm": {
     "name": "#%%\n"
    }
   },
   "outputs": [],
   "source": []
  }
 ],
 "metadata": {
  "kernelspec": {
   "display_name": "Python 3.10.2 64-bit",
   "language": "python",
   "name": "python3"
  },
  "language_info": {
   "codemirror_mode": {
    "name": "ipython",
    "version": 3
   },
   "file_extension": ".py",
   "mimetype": "text/x-python",
   "name": "python",
   "nbconvert_exporter": "python",
   "pygments_lexer": "ipython3",
   "version": "3.10.2"
  },
  "orig_nbformat": 4,
  "vscode": {
   "interpreter": {
    "hash": "aee8b7b246df8f9039afb4144a1f6fd8d2ca17a180786b69acc140d282b71a49"
   }
  }
 },
 "nbformat": 4,
 "nbformat_minor": 2
}